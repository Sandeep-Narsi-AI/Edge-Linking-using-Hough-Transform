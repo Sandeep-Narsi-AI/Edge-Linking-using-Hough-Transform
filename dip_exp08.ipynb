{
 "cells": [
  {
   "cell_type": "code",
   "execution_count": 1,
   "id": "6cf99b87",
   "metadata": {},
   "outputs": [],
   "source": [
    "# Read image and convert it to grayscale image\n",
    "import cv2\n",
    "import numpy as np\n",
    "import matplotlib.pyplot as plt\n",
    "img = cv2.imread(\"pyramid.png\")\n",
    "cv2.imshow(\"original\",img)\n",
    "cv2.waitKey(0)\n",
    "cv2.destroyAllWindows()\n",
    "gray = cv2.cvtColor(img, cv2.COLOR_BGR2GRAY)\n",
    "cv2.imshow(\"gray\",gray)\n",
    "cv2.waitKey(0)\n",
    "cv2.destroyAllWindows()"
   ]
  },
  {
   "cell_type": "code",
   "execution_count": 6,
   "id": "dcbe516d",
   "metadata": {},
   "outputs": [
    {
     "data": {
      "text/plain": [
       "<Figure size 432x288 with 0 Axes>"
      ]
     },
     "metadata": {},
     "output_type": "display_data"
    }
   ],
   "source": [
    "# Find the edges in the image using canny detector and display\n",
    "canny_edges = cv2.Canny(gray,10,150)\n",
    "plt.figure(1)\n",
    "cv2.imshow(\"Canny Edges\",canny_edges)\n",
    "cv2.waitKey(0)\n",
    "cv2.destroyAllWindows()"
   ]
  },
  {
   "cell_type": "code",
   "execution_count": 8,
   "id": "50b5055a",
   "metadata": {},
   "outputs": [],
   "source": [
    "# Detect points that form a line using HoughLinesP\n",
    "lines = cv2.HoughLinesP(canny_edges,1,np.pi/180,threshold = 80,minLineLength = 50,maxLineGap=250)"
   ]
  },
  {
   "cell_type": "code",
   "execution_count": 13,
   "id": "9d92cf5f",
   "metadata": {},
   "outputs": [],
   "source": [
    "# Draw lines on the image\n",
    "for line in lines:\n",
    "    x1,y1,x2,y2 = line[0]\n",
    "    cv2.line(img,(x1,y1),(x2,y2),(255,0,0),3)"
   ]
  },
  {
   "cell_type": "code",
   "execution_count": 14,
   "id": "74cb95a5",
   "metadata": {},
   "outputs": [],
   "source": [
    "# Display the result\n",
    "cv2.imshow(\"lines\",img)\n",
    "cv2.waitKey(0)\n",
    "cv2.destroyAllWindows()"
   ]
  }
 ],
 "metadata": {
  "kernelspec": {
   "display_name": "Python 3 (ipykernel)",
   "language": "python",
   "name": "python3"
  },
  "language_info": {
   "codemirror_mode": {
    "name": "ipython",
    "version": 3
   },
   "file_extension": ".py",
   "mimetype": "text/x-python",
   "name": "python",
   "nbconvert_exporter": "python",
   "pygments_lexer": "ipython3",
   "version": "3.8.8"
  }
 },
 "nbformat": 4,
 "nbformat_minor": 5
}
